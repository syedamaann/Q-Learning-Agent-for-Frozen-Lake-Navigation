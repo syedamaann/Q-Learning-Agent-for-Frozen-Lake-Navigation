{
  "nbformat": 4,
  "nbformat_minor": 0,
  "metadata": {
    "colab": {
      "provenance": [],
      "authorship_tag": "ABX9TyPREDGXDboB48xdgJ5AIq0/",
      "include_colab_link": true
    },
    "kernelspec": {
      "name": "python3",
      "display_name": "Python 3"
    },
    "language_info": {
      "name": "python"
    }
  },
  "cells": [
    {
      "cell_type": "markdown",
      "metadata": {
        "id": "view-in-github",
        "colab_type": "text"
      },
      "source": [
        "<a href=\"https://colab.research.google.com/github/syedamaann/Q-Learning-Agent-for-Frozen-Lake-Navigation/blob/main/Q_Learning_Agent_for_Frozen_Lake_Navigation.ipynb\" target=\"_parent\"><img src=\"https://colab.research.google.com/assets/colab-badge.svg\" alt=\"Open In Colab\"/></a>"
      ]
    },
    {
      "cell_type": "code",
      "execution_count": 1,
      "metadata": {
        "colab": {
          "base_uri": "https://localhost:8080/"
        },
        "id": "AWZlJF4pLxaS",
        "outputId": "1b2740ca-3079-4b70-c4ba-f93e44a5e437"
      },
      "outputs": [
        {
          "output_type": "stream",
          "name": "stdout",
          "text": [
            "Requirement already satisfied: gym in /usr/local/lib/python3.10/dist-packages (0.25.2)\n",
            "Requirement already satisfied: matplotlib in /usr/local/lib/python3.10/dist-packages (3.7.1)\n",
            "Requirement already satisfied: numpy>=1.18.0 in /usr/local/lib/python3.10/dist-packages (from gym) (1.25.2)\n",
            "Requirement already satisfied: cloudpickle>=1.2.0 in /usr/local/lib/python3.10/dist-packages (from gym) (2.2.1)\n",
            "Requirement already satisfied: gym-notices>=0.0.4 in /usr/local/lib/python3.10/dist-packages (from gym) (0.0.8)\n",
            "Requirement already satisfied: contourpy>=1.0.1 in /usr/local/lib/python3.10/dist-packages (from matplotlib) (1.2.0)\n",
            "Requirement already satisfied: cycler>=0.10 in /usr/local/lib/python3.10/dist-packages (from matplotlib) (0.12.1)\n",
            "Requirement already satisfied: fonttools>=4.22.0 in /usr/local/lib/python3.10/dist-packages (from matplotlib) (4.49.0)\n",
            "Requirement already satisfied: kiwisolver>=1.0.1 in /usr/local/lib/python3.10/dist-packages (from matplotlib) (1.4.5)\n",
            "Requirement already satisfied: packaging>=20.0 in /usr/local/lib/python3.10/dist-packages (from matplotlib) (24.0)\n",
            "Requirement already satisfied: pillow>=6.2.0 in /usr/local/lib/python3.10/dist-packages (from matplotlib) (9.4.0)\n",
            "Requirement already satisfied: pyparsing>=2.3.1 in /usr/local/lib/python3.10/dist-packages (from matplotlib) (3.1.2)\n",
            "Requirement already satisfied: python-dateutil>=2.7 in /usr/local/lib/python3.10/dist-packages (from matplotlib) (2.8.2)\n",
            "Requirement already satisfied: six>=1.5 in /usr/local/lib/python3.10/dist-packages (from python-dateutil>=2.7->matplotlib) (1.16.0)\n"
          ]
        }
      ],
      "source": [
        "!pip install gym matplotlib\n",
        "\n",
        "import gym\n",
        "import numpy as np\n",
        "import matplotlib.pyplot as plt"
      ]
    },
    {
      "cell_type": "code",
      "source": [
        "# Load the environment\n",
        "env = gym.make('FrozenLake-v1', new_step_api=True)\n",
        "\n",
        "# Constants for the Q-learning algorithm\n",
        "STATES = env.observation_space.n\n",
        "ACTIONS = env.action_space.n\n",
        "EPISODES = 1500  # number of times to run the environment from the beginning\n",
        "MAX_STEPS = 100  # max number of steps allowed for each run of the environment\n",
        "LEARNING_RATE = 0.81  # learning rate\n",
        "GAMMA = 0.96  # discount factor\n"
      ],
      "metadata": {
        "id": "eTwcuRp5MTR1"
      },
      "execution_count": 4,
      "outputs": []
    },
    {
      "cell_type": "code",
      "source": [
        "# Initialize the Q-table\n",
        "Q = np.zeros((STATES, ACTIONS))\n",
        "epsilon = 0.9  # probability of choosing a random action\n",
        "\n",
        "# Function to pick an action\n",
        "def choose_action(state, epsilon):\n",
        "    if np.random.uniform(0, 1) < epsilon:\n",
        "        return env.action_space.sample()  # take random action\n",
        "    else:\n",
        "        return np.argmax(Q[state, :])  # use Q table to pick best action\n",
        "\n",
        "# Function to update the Q values\n",
        "def update_q_table(state, action, reward, next_state):\n",
        "    predict = Q[state, action]\n",
        "    target = reward + GAMMA * np.max(Q[next_state, :])\n",
        "    Q[state, action] = Q[state, action] + LEARNING_RATE * (target - predict)"
      ],
      "metadata": {
        "id": "WklAQNHcMVeY"
      },
      "execution_count": 5,
      "outputs": []
    },
    {
      "source": [
        "rewards = []\n",
        "for episode in range(EPISODES):\n",
        "    state = env.reset()\n",
        "    for _ in range(MAX_STEPS):\n",
        "        action = choose_action(state, epsilon)\n",
        "        new_state, reward, done, info, extra_value = env.step(action)\n",
        "        update_q_table(state, action, reward, new_state)\n",
        "        state = new_state\n",
        "        if done:\n",
        "            break\n",
        "    rewards.append(reward)\n",
        "    epsilon -= 0.001  # decrease epsilon\n",
        "\n",
        "print(f\"Average reward: {sum(rewards) / len(rewards)}\")"
      ],
      "cell_type": "code",
      "metadata": {
        "colab": {
          "base_uri": "https://localhost:8080/"
        },
        "id": "J7K78uZoPRHe",
        "outputId": "56213851-20a6-47f4-c586-4234b7da8c6e"
      },
      "execution_count": 17,
      "outputs": [
        {
          "output_type": "stream",
          "name": "stderr",
          "text": [
            "/usr/local/lib/python3.10/dist-packages/ipykernel/ipkernel.py:283: DeprecationWarning: `should_run_async` will not call `transform_cell` automatically in the future. Please pass the result to `transformed_cell` argument and any exception that happen during thetransform in `preprocessing_exc_tuple` in IPython 7.17 and above.\n",
            "  and should_run_async(code)\n"
          ]
        },
        {
          "output_type": "stream",
          "name": "stdout",
          "text": [
            "Average reward: 0.31\n"
          ]
        }
      ]
    },
    {
      "cell_type": "code",
      "source": [
        "# Output the learned Q-table\n",
        "print(Q)\n",
        "\n",
        "# Function to calculate the average rewards\n",
        "def get_average(values):\n",
        "    return sum(values) / len(values)\n",
        "\n",
        "# Plot the training progress\n",
        "avg_rewards = [get_average(rewards[i:i + 100]) for i in range(0, len(rewards), 100)]\n",
        "plt.plot(avg_rewards)\n",
        "plt.ylabel('average reward')\n",
        "plt.xlabel('episodes (100\\'s)')\n",
        "plt.show()"
      ],
      "metadata": {
        "colab": {
          "base_uri": "https://localhost:8080/",
          "height": 727
        },
        "id": "SK8T6d02McMD",
        "outputId": "15047d10-d801-4b1a-e912-76e9578f04c5"
      },
      "execution_count": 18,
      "outputs": [
        {
          "output_type": "stream",
          "name": "stdout",
          "text": [
            "[[3.11474912e-01 1.58718429e-02 1.62822717e-02 1.61392149e-02]\n",
            " [5.12306062e-03 6.14314838e-03 3.52044710e-03 2.10396768e-01]\n",
            " [7.34603322e-03 5.88524094e-03 8.09617899e-03 2.73242125e-01]\n",
            " [2.21031245e-03 3.31176610e-03 2.70447523e-03 1.24666525e-01]\n",
            " [4.81327094e-01 3.61077358e-03 2.97706480e-03 3.92989467e-03]\n",
            " [0.00000000e+00 0.00000000e+00 0.00000000e+00 0.00000000e+00]\n",
            " [2.74128036e-01 7.54170709e-06 7.85385147e-06 8.43513039e-06]\n",
            " [0.00000000e+00 0.00000000e+00 0.00000000e+00 0.00000000e+00]\n",
            " [1.42970508e-03 7.25277490e-03 2.03055523e-03 3.87148752e-01]\n",
            " [7.29930414e-03 5.28195401e-01 8.25578698e-03 3.99072438e-03]\n",
            " [7.44910450e-01 2.45989560e-04 5.30727808e-04 3.77730171e-04]\n",
            " [0.00000000e+00 0.00000000e+00 0.00000000e+00 0.00000000e+00]\n",
            " [0.00000000e+00 0.00000000e+00 0.00000000e+00 0.00000000e+00]\n",
            " [1.99230290e-02 5.83938435e-02 8.46039489e-01 3.38190100e-02]\n",
            " [2.37048949e-01 9.83883604e-01 1.96894334e-01 2.36606427e-01]\n",
            " [0.00000000e+00 0.00000000e+00 0.00000000e+00 0.00000000e+00]]\n"
          ]
        },
        {
          "output_type": "display_data",
          "data": {
            "text/plain": [
              "<Figure size 640x480 with 1 Axes>"
            ],
            "image/png": "[encoded data removed]"
          },
          "metadata": {}
        }
      ]
    }
  ]
}